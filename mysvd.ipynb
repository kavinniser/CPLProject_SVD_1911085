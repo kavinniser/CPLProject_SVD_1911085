{
 "cells": [
  {
   "cell_type": "code",
   "execution_count": 104,
   "id": "83bb993e",
   "metadata": {},
   "outputs": [],
   "source": [
    "import numpy as np\n",
    "from numpy.linalg import norm\n",
    "\n",
    "from random import normalvariate\n",
    "from math import sqrt\n"
   ]
  },
  {
   "cell_type": "code",
   "execution_count": 105,
   "id": "3c412c20",
   "metadata": {},
   "outputs": [],
   "source": [
    "def randomUnitVector(n): #defining a random unit vector 'x'\n",
    "    unnormalized = [normalvariate(0, 1) for _ in range(n)]\n",
    "    Norm = sqrt(sum(x * x for x in unnormalized))\n",
    "    return [x / Norm for x in unnormalized]\n",
    " \n",
    "def svd_1d(A, epsilon=1e-10): #finding a singular vector \n",
    "    ''' The one-dimensional SVD '''\n",
    " \n",
    "    m, n = A.shape\n",
    "    x = randomUnitVector(n) \n",
    "    prevV = None\n",
    "    currentV = x\n",
    "    B = np.dot(A.T, A)\n",
    " \n",
    "    iterations = 0\n",
    "    while True:\n",
    "        iterations += 1\n",
    "        prevV = currentV\n",
    "        currentV = np.dot(B, prevV)\n",
    "        currentV = currentV / norm(currentV)\n",
    " \n",
    "        if abs(np.dot(currentV, prevV)) > 1 - epsilon:\n",
    "            print(\"converged in {} iterations\".format(iterations))\n",
    "            return currentV"
   ]
  },
  {
   "cell_type": "code",
   "execution_count": 106,
   "id": "cbc2cfb1",
   "metadata": {},
   "outputs": [],
   "source": [
    "if __name__ == \"__main__\":\n",
    "    movieRatings = np.array([\n",
    "        [2, 5, 3],\n",
    "        [1, 2, 1],\n",
    "        [4, 1, 1],\n",
    "        [3, 5, 2],\n",
    "        [5, 3, 1],\n",
    "        [4, 5, 5],\n",
    "        [2, 4, 2],\n",
    "        [2, 2, 5],\n",
    "    ], dtype='float64')\n",
    " \n",
    "   "
   ]
  },
  {
   "cell_type": "code",
   "execution_count": 107,
   "id": "3a571f81",
   "metadata": {},
   "outputs": [],
   "source": [
    "def mysvd(A, epsilon=1e-10):\n",
    "    m, n = A.shape\n",
    "    svdSoFar = []\n",
    " \n",
    "    for i in range(n):       #doing iteration till 'n'\n",
    "        matrix_1D = A.copy()\n",
    " \n",
    "        for singularValue, u, v in svdSoFar[:i]: \n",
    "            matrix_1D -= singularValue * np.outer(u, v)\n",
    " \n",
    "        v = svd_1d(matrix_1D, epsilon=epsilon)  # next singular vector\n",
    "        u_unnormalized = np.dot(A, v)\n",
    "        sigma = norm(u_unnormalized)  # next singular value\n",
    "        u = u_unnormalized / sigma\n",
    " \n",
    "        svdSoFar.append((sigma, u, v))\n",
    " \n",
    "    # transform it into matrices of the right shape\n",
    "    singularValues, us, vs = [np.array(x) for x in zip(*svdSoFar)]\n",
    " \n",
    "    return singularValues, us.T, vs\n"
   ]
  },
  {
   "cell_type": "code",
   "execution_count": 108,
   "id": "8ac2fb0b",
   "metadata": {},
   "outputs": [
    {
     "name": "stdout",
     "output_type": "stream",
     "text": [
      "converged in 6 iterations\n",
      "converged in 30 iterations\n",
      "converged in 2 iterations\n",
      "The diagonal elements of sigma matrix are [15.09626916  4.30056855  3.40701739]\n",
      "U = [[ 0.39458528 -0.23922996  0.35446498]\n",
      " [ 0.15830232 -0.03054664  0.15299835]\n",
      " [ 0.22155197  0.52085541 -0.39336182]\n",
      " [ 0.39692634  0.08649674  0.41052676]\n",
      " [ 0.34630252  0.64128745 -0.07384417]\n",
      " [ 0.53347451 -0.19169128 -0.19948869]\n",
      " [ 0.31660465 -0.06109329  0.3059967 ]\n",
      " [ 0.32840227 -0.45971334 -0.62353641]]\n",
      "V = [[ 0.54184789  0.67070996  0.50650668]\n",
      " [ 0.75151584 -0.11679481 -0.64929416]\n",
      " [-0.37633071  0.73246646 -0.56733418]]\n"
     ]
    }
   ],
   "source": [
    "#Example 1:\n",
    "if __name__ == \"__main__\":\n",
    "    A = np.array([\n",
    "        [2, 5, 3],\n",
    "        [1, 2, 1],\n",
    "        [4, 1, 1],\n",
    "        [3, 5, 2],\n",
    "        [5, 3, 1],\n",
    "        [4, 5, 5],\n",
    "        [2, 4, 2],\n",
    "        [2, 2, 5],\n",
    "    ], dtype='float64')\n",
    " \n",
    "    a, b, c = mysvd(A)\n",
    "    print(\"The diagonal elements of sigma matrix are \" + str(a))\n",
    "    print(\"U = \" + str(b))\n",
    "    print(\"V = \" + str(c))"
   ]
  },
  {
   "cell_type": "code",
   "execution_count": 109,
   "id": "8033ceb9",
   "metadata": {
    "scrolled": true
   },
   "outputs": [
    {
     "name": "stdout",
     "output_type": "stream",
     "text": [
      "Singular values = [15.09626916  4.30056855  3.40701739]\n",
      "U = [[-0.39458526  0.23923575 -0.35445911 -0.38062172 -0.29836818 -0.49464816\n",
      "  -0.30703202 -0.29763321]\n",
      " [-0.15830232  0.03054913 -0.15299759 -0.45334816  0.31122898  0.23892035\n",
      "  -0.37313346  0.67223457]\n",
      " [-0.22155201 -0.52086121  0.39334917 -0.14974792 -0.65963979  0.00488292\n",
      "  -0.00783684  0.25934607]\n",
      " [-0.39692635 -0.08649009 -0.41052882  0.74387448 -0.10629499  0.01372565\n",
      "  -0.17959298  0.26333462]\n",
      " [-0.34630257 -0.64128825  0.07382859 -0.04494155  0.58000668 -0.25806239\n",
      "   0.00211823 -0.24154726]\n",
      " [-0.53347449  0.19168874  0.19949342 -0.03942604  0.00424495  0.68715732\n",
      "  -0.06957561 -0.40033035]\n",
      " [-0.31660464  0.06109826 -0.30599517 -0.19611823 -0.01334272  0.01446975\n",
      "   0.85185852  0.19463493]\n",
      " [-0.32840223  0.45970413  0.62354764  0.1783041   0.17631186 -0.39879476\n",
      "   0.06065902  0.25771578]]\n",
      "V = [[-0.54184808 -0.67070995 -0.50650649]\n",
      " [-0.75152295  0.11680911  0.64928336]\n",
      " [ 0.37631623 -0.73246419  0.56734672]]\n"
     ]
    }
   ],
   "source": [
    "#checking with svd function from numpy\n",
    "from numpy.linalg import svd\n",
    " \n",
    "A = [\n",
    "    [2, 5, 3],\n",
    "    [1, 2, 1],\n",
    "    [4, 1, 1],\n",
    "    [3, 5, 2],\n",
    "    [5, 3, 1],\n",
    "    [4, 5, 5],\n",
    "    [2, 4, 2],\n",
    "    [2, 2, 5],\n",
    "]\n",
    " \n",
    "U, singularValues, V = svd(A)\n",
    "print(\"Singular values = \"+ str(singularValues))\n",
    "print(\"U = \" + str(U))\n",
    "print(\"V = \" + str(V))"
   ]
  },
  {
   "cell_type": "code",
   "execution_count": 110,
   "id": "fa8b64bd",
   "metadata": {},
   "outputs": [
    {
     "name": "stdout",
     "output_type": "stream",
     "text": [
      "converged in 12 iterations\n",
      "converged in 2 iterations\n",
      "The diagonal elements of sigma matrix (singular values) are [5. 3.]\n",
      "U = [[-7.07105901e-01 -2.35709591e-01]\n",
      " [-7.07107661e-01  2.35694929e-01]\n",
      " [ 3.51892412e-06 -9.42809042e-01]]\n",
      "V = [[-0.70710238 -0.70711118]\n",
      " [-0.70711118  0.70710238]]\n"
     ]
    }
   ],
   "source": [
    "#Example 2:\n",
    "if __name__ == \"__main__\":\n",
    "    A = np.array([\n",
    "        [3, 2],\n",
    "        [2, 3],\n",
    "        [2, -2],\n",
    "    ], dtype='float64')\n",
    "    \n",
    "    a, b, c = mysvd(A)\n",
    "    print(\"The diagonal elements of sigma matrix (singular values) are \" + str(a))\n",
    "    print(\"U = \" + str(b))\n",
    "    print(\"V = \" + str(c))"
   ]
  },
  {
   "cell_type": "code",
   "execution_count": 111,
   "id": "11684383",
   "metadata": {},
   "outputs": [
    {
     "name": "stdout",
     "output_type": "stream",
     "text": [
      "Singular values = [5. 3.]\n",
      "U = [[-7.07106781e-01  2.35702260e-01 -6.66666667e-01]\n",
      " [-7.07106781e-01 -2.35702260e-01  6.66666667e-01]\n",
      " [-1.66533454e-16  9.42809042e-01  3.33333333e-01]]\n",
      "V = [[-0.70710678 -0.70710678]\n",
      " [ 0.70710678 -0.70710678]]\n"
     ]
    }
   ],
   "source": [
    "#checking with svd function from numpy\n",
    "from numpy.linalg import svd\n",
    " \n",
    "A = [\n",
    "    [3, 2],\n",
    "    [2, 3],\n",
    "    [2, -2],\n",
    "]\n",
    " \n",
    "U, singularValues, V = svd(A)\n",
    "print(\"Singular values = \"+ str(singularValues))\n",
    "print(\"U = \" + str(U))\n",
    "print(\"V = \" + str(V))"
   ]
  },
  {
   "cell_type": "code",
   "execution_count": 112,
   "id": "f3da52c8",
   "metadata": {},
   "outputs": [
    {
     "name": "stdout",
     "output_type": "stream",
     "text": [
      "A:  [[ 3  3  2]\n",
      " [ 2  3 -2]]\n",
      "U:  [[ 0.7815437 -0.6238505]\n",
      " [ 0.6238505  0.7815437]]\n",
      "Singular array:  [[-0.11372532  0.70002955]\n",
      " [-0.26712717  0.38298285]\n",
      " [-0.44066355  0.36835929]\n",
      " [-0.53380995 -0.4504762 ]\n",
      " [-0.6607361  -0.15705217]]\n",
      "V^T:  [[ 0.64749817  0.7599438   0.05684667]\n",
      " [-0.10759258  0.16501062 -0.9804057 ]\n",
      " [-0.75443354  0.62869461  0.18860838]]\n",
      "Pseudo-inverse matrix:  [[ 0.11462451  0.04347826]\n",
      " [ 0.07114625  0.13043478]\n",
      " [ 0.22134387 -0.26086957]]\n"
     ]
    }
   ],
   "source": [
    "import numpy as np\n",
    "from scipy.linalg import svd\n",
    "\n",
    "\n",
    "A = np.array([[2, 3, 2], [3,3,-2]])\n",
    "print(\"A: \",X)\n",
    "# performing SVD\n",
    "U, singular, V_t = svd(X)\n",
    "\n",
    "print(\"U: \",U)\n",
    "print(\"Singular array: \",s)\n",
    "print(\"V^T: \",V_t)\n",
    " \n",
    "\n",
    "#Calculate Pseudo inverse\n",
    "\n",
    "singular_inv = 1.0 / singular # inverse of singular matrix is just the reciprocal of each element\n",
    "s_inv = np.zeros(A.shape)   # creating m x n matrix of zeroes and inserting singular values in it\n",
    "s_inv[0][0]= singular_inv[0]\n",
    "s_inv[1][1] =singular_inv[1]\n",
    "# calculate pseudoinverse\n",
    "M = np.dot(np.dot(V_t.T,s_inv.T),U.T)\n",
    "print(\"Pseudo-inverse matrix: \",M)\n"
   ]
  },
  {
   "cell_type": "code",
   "execution_count": null,
   "id": "cd815483",
   "metadata": {},
   "outputs": [],
   "source": []
  }
 ],
 "metadata": {
  "kernelspec": {
   "display_name": "Python 3",
   "language": "python",
   "name": "python3"
  },
  "language_info": {
   "codemirror_mode": {
    "name": "ipython",
    "version": 3
   },
   "file_extension": ".py",
   "mimetype": "text/x-python",
   "name": "python",
   "nbconvert_exporter": "python",
   "pygments_lexer": "ipython3",
   "version": "3.8.8"
  }
 },
 "nbformat": 4,
 "nbformat_minor": 5
}
